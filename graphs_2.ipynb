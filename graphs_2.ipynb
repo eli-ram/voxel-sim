{
 "cells": [
  {
   "cell_type": "code",
   "execution_count": null,
   "metadata": {},
   "outputs": [],
   "source": [
    "# !pip install matplotlib ipympl\n",
    "import numpy as np\n",
    "from matplotlib import pyplot as plt\n",
    "import source.ml.ga_2 as ga\n",
    "%matplotlib widget"
   ]
  },
  {
   "cell_type": "code",
   "execution_count": null,
   "metadata": {},
   "outputs": [],
   "source": [
    "def n(V):\n",
    "    min = np.min(V)\n",
    "    max = np.max(V)\n",
    "    return (V - min) / (max - min)"
   ]
  },
  {
   "cell_type": "code",
   "execution_count": null,
   "metadata": {},
   "outputs": [],
   "source": [
    "f = './results/ex3_partial_fracture_P10_R35[2023-03-06][13-19]/'\n",
    "f = './results/ex3_partial_fracture_P10_R35[2023-03-06][14-39]/'\n",
    "f = './results/ex3_partial_fracture_P10_R35[2023-03-07][12-06]/'\n",
    "f = './results/padded-test/'\n",
    "f = './results/whole#1/'"
   ]
  },
  {
   "cell_type": "code",
   "execution_count": null,
   "metadata": {},
   "outputs": [],
   "source": [
    "S = ga.open_db(f)\n",
    "G = S.loadAll()\n",
    "D = S.fitness(G)\n",
    "P = S.parameters(G)"
   ]
  },
  {
   "cell_type": "code",
   "execution_count": null,
   "metadata": {},
   "outputs": [],
   "source": [
    "def U(i):\n",
    "    return np.unravel_index(i, D.shape)  # type: ignore\n",
    "\n",
    "\n",
    "print((D == 1e10).sum())\n",
    "D[D == 1e10] = np.nan\n",
    "\n",
    "gen, pop = D.shape\n",
    "best = U(D.argmin())\n",
    "worst = U(D.argmax())\n",
    "print(\n",
    "    f\"population={pop}\",\n",
    "    f\"generations={gen}\",\n",
    "    f\"best@{best[0]}={D[best]:.5f}\",\n",
    "    f\"worst@{worst[0]}={D[worst]:.5f}\",\n",
    ")\n",
    "\n",
    "D.sort(axis=1)\n",
    "K = 5\n",
    "R = (pop // K) + (pop % K)\n",
    "S = D[:, :15]\n",
    "\n",
    "fig = plt.figure()\n",
    "_ = {\"axis\": 1}\n",
    "# plt.plot(D.mean(**_), label=\"mean\")  # , marker='o')\n",
    "plt.plot(D.min(**_), label=\"min\")  # , marker='x')\n",
    "# plt.plot(D.max(**_), label=\"max\") #, marker='+')\n",
    "# plt.plot(S.max(**_), label=\"smooth-max\")\n",
    "# plt.plot(S.mean(**_), label=\"smooth-mean\")\n",
    "# plt.yscale('log')\n",
    "plt.legend()\n",
    "plt.show()"
   ]
  },
  {
   "cell_type": "code",
   "execution_count": null,
   "metadata": {},
   "outputs": [],
   "source": [
    "def N(*a, **k): return np.linalg.norm(*a, **k) # type: ignore\n",
    "    \n",
    "fig = plt.figure()\n",
    "S = P[:, :(6*2), :].std(axis=1)\n",
    "M = P[:, :(6*2), :].mean(axis=1)\n",
    "# plt.plot(S.mean(axis=1), label=\"std genome\", marker='o')\n",
    "# plt.plot(np.linalg.norm(S[:, 0:], axis=1), label=\"std genome\", marker='x')\n",
    "plt.plot(N(S[:, :3], axis=1), label=\"std genome.a\") # , marker='+')\n",
    "plt.plot(N(S[:, 3:], axis=1), label=\"std genome.b\") #, marker='*')\n",
    "plt.plot(N(M[:, :3], axis=1), label=\"mean genome.a\") # , marker='+')\n",
    "plt.plot(N(M[:, 3:], axis=1), label=\"mean genome.b\") #, marker='*')\n",
    "# plt.plot(P.mean(axis=1).mean(axis=1), label=\"population-mean\")\n",
    "# plt.yscale('log')\n",
    "plt.legend()\n",
    "plt.show()"
   ]
  }
 ],
 "metadata": {
  "kernelspec": {
   "display_name": ".env",
   "language": "python",
   "name": "python3"
  },
  "language_info": {
   "codemirror_mode": {
    "name": "ipython",
    "version": 3
   },
   "file_extension": ".py",
   "mimetype": "text/x-python",
   "name": "python",
   "nbconvert_exporter": "python",
   "pygments_lexer": "ipython3",
   "version": "3.11.2"
  },
  "orig_nbformat": 4,
  "vscode": {
   "interpreter": {
    "hash": "4f79fd3f0f1e9ffdcbf5f5a117c9973a7df69c2022752743dc47c603b7d268f9"
   }
  }
 },
 "nbformat": 4,
 "nbformat_minor": 2
}
