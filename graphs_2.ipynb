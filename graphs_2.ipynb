{
 "cells": [
  {
   "cell_type": "code",
   "execution_count": null,
   "metadata": {},
   "outputs": [],
   "source": [
    "# !pip install matplotlib ipympl\n",
    "import numpy as np\n",
    "from matplotlib import pyplot as plt\n",
    "import source.ml.ga_2 as ga\n",
    "%matplotlib widget"
   ]
  },
  {
   "cell_type": "code",
   "execution_count": null,
   "metadata": {},
   "outputs": [],
   "source": [
    "# f = './results/whole#1/'\n",
    "# f = './results/whole#2/'\n",
    "# f = './results/sliced#1/'\n",
    "f = './results/sliced#2/'"
   ]
  },
  {
   "cell_type": "code",
   "execution_count": null,
   "metadata": {},
   "outputs": [],
   "source": [
    "S = ga.open_db(f)\n",
    "C = S.generations()\n",
    "C = 150\n",
    "G = S.loadUntil(C + 1)\n",
    "D = S.fitness(G)\n",
    "P = S.parameters(G)"
   ]
  },
  {
   "cell_type": "code",
   "execution_count": null,
   "metadata": {},
   "outputs": [],
   "source": [
    "def N(V, **a): return np.linalg.norm(V, **a) # type: ignore \n",
    "def U(I): return np.unravel_index(I, D.shape) # type: ignore"
   ]
  },
  {
   "cell_type": "code",
   "execution_count": null,
   "metadata": {},
   "outputs": [],
   "source": [
    "\n",
    "gen, pop = D.shape\n",
    "best = U(D.argmin())\n",
    "worst = U(D.argmax())\n",
    "print(\n",
    "    f\"population={pop}\",\n",
    "    f\"generations={gen}\",\n",
    "    f\"best[{best[0]}]={D[best]:.5f}\",\n",
    "    f\"worst[{worst[0]}]={D[worst]:.5f}\",\n",
    ")\n",
    "\n",
    "def fix_ticks(ax: plt.Axes):\n",
    "    # X\n",
    "    step = 10\n",
    "    ticks = np.arange(0, C + step - 1, step)\n",
    "    ax.xaxis.set_ticks(ticks) # type: ignore\n",
    "    # Y\n",
    "    sy, ey = ax.get_ylim()\n",
    "    cy = ax.yaxis.get_tick_space()\n",
    "    sy = np.floor(sy)\n",
    "    ey = np.ceil(ey)\n",
    "    ticks = np.linspace(sy, ey, cy)\n",
    "    ticks = np.unique(np.floor(ticks))\n",
    "    ax.yaxis.set_ticks(ticks) # type: ignore\n",
    "    ax.set_ylabel(\"fitness\")\n",
    "    # G\n",
    "    ax.grid(True)\n",
    "    ax.legend()\n",
    "\n",
    "D.sort(axis=1)\n",
    "K = 5\n",
    "R = (pop // K) + (pop % K)\n",
    "S = D[:, :]\n",
    "\n",
    "fig = plt.figure()\n",
    "ax1, ax2 = fig.subplots(2, 1)\n",
    "_ = {\"axis\": 1}\n",
    "ax1.plot(D.mean(**_), label=\"mean\", color=\"g\")\n",
    "ax1.plot(D.min(**_), label=\"min\", color=\"b\")\n",
    "fix_ticks(ax1)\n",
    "\n",
    "ax2.plot(D.min(**_), label=\"min\", color=\"b\")\n",
    "fix_ticks(ax2)\n",
    "\n",
    "# plt.plot(D.max(**_), label=\"max\") #, marker='+')\n",
    "# plt.plot(S.max(**_), label=\"smooth-max\")\n",
    "# ax2.plot(S.mean(**_), label=\"smooth-mean\")\n",
    "# plt.yscale('log')\n",
    "\n",
    "# plt.xlabel(\"generation\")\n",
    "ax2.set_xlabel(\"generation\")\n",
    "# plt.legend()\n",
    "plt.show()\n",
    "plt.savefig(\"./results/fig.png\", dpi=500)"
   ]
  },
  {
   "cell_type": "code",
   "execution_count": null,
   "metadata": {},
   "outputs": [],
   "source": [
    "\n",
    "    \n",
    "fig = plt.figure()\n",
    "S = P[:, :(6*2), :].std(axis=1)\n",
    "M = P[:, :(6*2), :].mean(axis=1)\n",
    "# plt.plot(S.mean(axis=1), label=\"std genome\", marker='o')\n",
    "# plt.plot(np.linalg.norm(S[:, 0:], axis=1), label=\"std genome\", marker='x')\n",
    "plt.plot(N(S[:, :3], axis=1), label=\"std genome.a\") # , marker='+')\n",
    "plt.plot(N(S[:, 3:], axis=1), label=\"std genome.b\") #, marker='*')\n",
    "plt.plot(N(M[:, :3], axis=1), label=\"mean genome.a\") # , marker='+')\n",
    "plt.plot(N(M[:, 3:], axis=1), label=\"mean genome.b\") #, marker='*')\n",
    "# plt.plot(P.mean(axis=1).mean(axis=1), label=\"population-mean\")\n",
    "# plt.yscale('log')\n",
    "plt.xlabel(\"generation\")\n",
    "plt.legend()\n",
    "plt.show()"
   ]
  }
 ],
 "metadata": {
  "kernelspec": {
   "display_name": ".env",
   "language": "python",
   "name": "python3"
  },
  "language_info": {
   "codemirror_mode": {
    "name": "ipython",
    "version": 3
   },
   "file_extension": ".py",
   "mimetype": "text/x-python",
   "name": "python",
   "nbconvert_exporter": "python",
   "pygments_lexer": "ipython3",
   "version": "3.11.2"
  },
  "orig_nbformat": 4,
  "vscode": {
   "interpreter": {
    "hash": "4f79fd3f0f1e9ffdcbf5f5a117c9973a7df69c2022752743dc47c603b7d268f9"
   }
  }
 },
 "nbformat": 4,
 "nbformat_minor": 2
}
